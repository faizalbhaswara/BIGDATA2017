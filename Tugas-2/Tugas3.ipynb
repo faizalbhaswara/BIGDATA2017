{
 "cells": [
  {
   "cell_type": "code",
   "execution_count": 1,
   "metadata": {
    "collapsed": false
   },
   "outputs": [
    {
     "name": "stdout",
     "output_type": "stream",
     "text": [
      "<pyspark.context.SparkContext object at 0x7f16d8795390>\n"
     ]
    }
   ],
   "source": [
    "import os\n",
    "import sys\n",
    "\n",
    "# 1. Mengeset variabel yang menyimpan lokasi di mana Spark diinstal\n",
    "spark_path = \"/opt/spark\"\n",
    "\n",
    "# 2. Menentukan environment variable SPARK_HOME\n",
    "os.environ['SPARK_HOME'] = spark_path\n",
    "\n",
    "# 3. Simpan lokasi winutils.exe sebagai environment variable HADOOP_HOME\n",
    "os.environ['HADOOP_HOME'] = spark_path\n",
    "\n",
    "# 4. Lokasi Python yang dijalankan --> punya Anaconda\n",
    "#    Apabila Python yang diinstall hanya Anaconda, maka tidak perlu menjalankan baris ini.\n",
    "os.environ['PYSPARK_PYTHON'] = sys.executable\n",
    "\n",
    "# 5. Konfigurasi path library PySpark\n",
    "sys.path.append(spark_path + \"/bin\")\n",
    "sys.path.append(spark_path + \"/python\")\n",
    "sys.path.append(spark_path + \"/python/pyspark/\")\n",
    "sys.path.append(spark_path + \"/python/lib\")\n",
    "sys.path.append(spark_path + \"/python/lib/pyspark.zip\")\n",
    "sys.path.append(spark_path + \"/python/lib/py4j-0.9-src.zip\")\n",
    "\n",
    "# 6. Import library Spark\n",
    "#    Dua library yang WAJIB di-import adalah **SparkContext** dan **SparkConf**.\n",
    "from pyspark import SparkContext\n",
    "from pyspark import SparkConf\n",
    "\n",
    "# Setting konfigurasi (opsional)\n",
    "conf = SparkConf()\n",
    "conf.set(\"spark.executor.memory\", \"2g\")\n",
    "conf.set(\"spark.cores.max\", \"4\")\n",
    "\n",
    "sc = SparkContext(\"local\", conf=conf)\n",
    "#    Apabila berhasil, maka ketika sc di-print akan mengeluarkan nilai <pyspark.context.SparkContext object>\n",
    "print sc"
   ]
  },
  {
   "cell_type": "code",
   "execution_count": 2,
   "metadata": {
    "collapsed": false
   },
   "outputs": [
    {
     "name": "stdout",
     "output_type": "stream",
     "text": [
      "FreqItemset(items=[u'z'], freq=5)\n",
      "FreqItemset(items=[u'x'], freq=4)\n",
      "FreqItemset(items=[u'x', u'z'], freq=3)\n",
      "FreqItemset(items=[u'y'], freq=3)\n",
      "FreqItemset(items=[u'y', u'x'], freq=3)\n",
      "FreqItemset(items=[u'y', u'x', u'z'], freq=3)\n",
      "FreqItemset(items=[u'y', u'z'], freq=3)\n",
      "FreqItemset(items=[u'r'], freq=3)\n",
      "FreqItemset(items=[u'r', u'x'], freq=2)\n",
      "FreqItemset(items=[u'r', u'z'], freq=2)\n",
      "FreqItemset(items=[u's'], freq=3)\n",
      "FreqItemset(items=[u's', u'y'], freq=2)\n",
      "FreqItemset(items=[u's', u'y', u'x'], freq=2)\n",
      "FreqItemset(items=[u's', u'y', u'x', u'z'], freq=2)\n",
      "FreqItemset(items=[u's', u'y', u'z'], freq=2)\n",
      "FreqItemset(items=[u's', u'x'], freq=3)\n",
      "FreqItemset(items=[u's', u'x', u'z'], freq=2)\n",
      "FreqItemset(items=[u's', u'z'], freq=2)\n",
      "FreqItemset(items=[u't'], freq=3)\n",
      "FreqItemset(items=[u't', u'y'], freq=3)\n",
      "FreqItemset(items=[u't', u'y', u'x'], freq=3)\n",
      "FreqItemset(items=[u't', u'y', u'x', u'z'], freq=3)\n",
      "FreqItemset(items=[u't', u'y', u'z'], freq=3)\n",
      "FreqItemset(items=[u't', u's'], freq=2)\n",
      "FreqItemset(items=[u't', u's', u'y'], freq=2)\n",
      "FreqItemset(items=[u't', u's', u'y', u'x'], freq=2)\n",
      "FreqItemset(items=[u't', u's', u'y', u'x', u'z'], freq=2)\n",
      "FreqItemset(items=[u't', u's', u'y', u'z'], freq=2)\n",
      "FreqItemset(items=[u't', u's', u'x'], freq=2)\n",
      "FreqItemset(items=[u't', u's', u'x', u'z'], freq=2)\n",
      "FreqItemset(items=[u't', u's', u'z'], freq=2)\n",
      "FreqItemset(items=[u't', u'x'], freq=3)\n",
      "FreqItemset(items=[u't', u'x', u'z'], freq=3)\n",
      "FreqItemset(items=[u't', u'z'], freq=3)\n",
      "FreqItemset(items=[u'p'], freq=2)\n",
      "FreqItemset(items=[u'p', u'r'], freq=2)\n",
      "FreqItemset(items=[u'p', u'r', u'z'], freq=2)\n",
      "FreqItemset(items=[u'p', u'z'], freq=2)\n",
      "FreqItemset(items=[u'q'], freq=2)\n",
      "FreqItemset(items=[u'q', u'y'], freq=2)\n",
      "FreqItemset(items=[u'q', u'y', u'x'], freq=2)\n",
      "FreqItemset(items=[u'q', u'y', u'x', u'z'], freq=2)\n",
      "FreqItemset(items=[u'q', u'y', u'z'], freq=2)\n",
      "FreqItemset(items=[u'q', u't'], freq=2)\n",
      "FreqItemset(items=[u'q', u't', u'y'], freq=2)\n",
      "FreqItemset(items=[u'q', u't', u'y', u'x'], freq=2)\n",
      "FreqItemset(items=[u'q', u't', u'y', u'x', u'z'], freq=2)\n",
      "FreqItemset(items=[u'q', u't', u'y', u'z'], freq=2)\n",
      "FreqItemset(items=[u'q', u't', u'x'], freq=2)\n",
      "FreqItemset(items=[u'q', u't', u'x', u'z'], freq=2)\n",
      "FreqItemset(items=[u'q', u't', u'z'], freq=2)\n",
      "FreqItemset(items=[u'q', u'x'], freq=2)\n",
      "FreqItemset(items=[u'q', u'x', u'z'], freq=2)\n",
      "FreqItemset(items=[u'q', u'z'], freq=2)\n"
     ]
    }
   ],
   "source": [
    "from pyspark.mllib.fpm import FPGrowth\n",
    "\n",
    "data = sc.textFile(\"/home/ponighzwa/Desktop/big data/sample_fpgrowth.txt\")\n",
    "transactions = data.map(lambda line: line.strip().split(' '))\n",
    "model = FPGrowth.train(transactions, minSupport=0.2, numPartitions=10)\n",
    "result = model.freqItemsets().collect()\n",
    "for fi in result:\n",
    "    print(fi)"
   ]
  },
  {
   "cell_type": "code",
   "execution_count": 3,
   "metadata": {
    "collapsed": false
   },
   "outputs": [
    {
     "name": "stdout",
     "output_type": "stream",
     "text": [
      "FreqItemset(items=[u'Nasi'], freq=7)\n",
      "FreqItemset(items=[u'Tempe'], freq=5)\n",
      "FreqItemset(items=[u'Tempe', u'Nasi'], freq=5)\n",
      "FreqItemset(items=[u'EsJeruk'], freq=4)\n",
      "FreqItemset(items=[u'EsJeruk', u'Tempe'], freq=3)\n",
      "FreqItemset(items=[u'EsJeruk', u'Tempe', u'Nasi'], freq=3)\n",
      "FreqItemset(items=[u'EsJeruk', u'Nasi'], freq=4)\n",
      "FreqItemset(items=[u'Terong'], freq=4)\n",
      "FreqItemset(items=[u'Terong', u'EsJeruk'], freq=2)\n",
      "FreqItemset(items=[u'Terong', u'EsJeruk', u'Tempe'], freq=2)\n",
      "FreqItemset(items=[u'Terong', u'EsJeruk', u'Tempe', u'Nasi'], freq=2)\n",
      "FreqItemset(items=[u'Terong', u'EsJeruk', u'Nasi'], freq=2)\n",
      "FreqItemset(items=[u'Terong', u'Tempe'], freq=2)\n",
      "FreqItemset(items=[u'Terong', u'Tempe', u'Nasi'], freq=2)\n",
      "FreqItemset(items=[u'Terong', u'Nasi'], freq=3)\n",
      "FreqItemset(items=[u'Sambel'], freq=3)\n",
      "FreqItemset(items=[u'Sambel', u'EsJeruk'], freq=3)\n",
      "FreqItemset(items=[u'Sambel', u'EsJeruk', u'Tempe'], freq=3)\n",
      "FreqItemset(items=[u'Sambel', u'EsJeruk', u'Tempe', u'Nasi'], freq=3)\n",
      "FreqItemset(items=[u'Sambel', u'EsJeruk', u'Nasi'], freq=3)\n",
      "FreqItemset(items=[u'Sambel', u'Tempe'], freq=3)\n",
      "FreqItemset(items=[u'Sambel', u'Tempe', u'Nasi'], freq=3)\n",
      "FreqItemset(items=[u'Sambel', u'Terong'], freq=2)\n",
      "FreqItemset(items=[u'Sambel', u'Terong', u'EsJeruk'], freq=2)\n",
      "FreqItemset(items=[u'Sambel', u'Terong', u'EsJeruk', u'Tempe'], freq=2)\n",
      "FreqItemset(items=[u'Sambel', u'Terong', u'EsJeruk', u'Tempe', u'Nasi'], freq=2)\n",
      "FreqItemset(items=[u'Sambel', u'Terong', u'EsJeruk', u'Nasi'], freq=2)\n",
      "FreqItemset(items=[u'Sambel', u'Terong', u'Tempe'], freq=2)\n",
      "FreqItemset(items=[u'Sambel', u'Terong', u'Tempe', u'Nasi'], freq=2)\n",
      "FreqItemset(items=[u'Sambel', u'Terong', u'Nasi'], freq=2)\n",
      "FreqItemset(items=[u'Sambel', u'Nasi'], freq=3)\n",
      "FreqItemset(items=[u'AirEs'], freq=3)\n",
      "FreqItemset(items=[u'Bakwan'], freq=2)\n",
      "FreqItemset(items=[u'Mujaer'], freq=2)\n",
      "FreqItemset(items=[u'Mujaer', u'EsJeruk'], freq=2)\n",
      "FreqItemset(items=[u'Mujaer', u'EsJeruk', u'Tempe'], freq=2)\n",
      "FreqItemset(items=[u'Mujaer', u'EsJeruk', u'Tempe', u'Nasi'], freq=2)\n",
      "FreqItemset(items=[u'Mujaer', u'EsJeruk', u'Nasi'], freq=2)\n",
      "FreqItemset(items=[u'Mujaer', u'Sambel'], freq=2)\n",
      "FreqItemset(items=[u'Mujaer', u'Sambel', u'EsJeruk'], freq=2)\n",
      "FreqItemset(items=[u'Mujaer', u'Sambel', u'EsJeruk', u'Tempe'], freq=2)\n",
      "FreqItemset(items=[u'Mujaer', u'Sambel', u'EsJeruk', u'Tempe', u'Nasi'], freq=2)\n",
      "FreqItemset(items=[u'Mujaer', u'Sambel', u'EsJeruk', u'Nasi'], freq=2)\n",
      "FreqItemset(items=[u'Mujaer', u'Sambel', u'Tempe'], freq=2)\n",
      "FreqItemset(items=[u'Mujaer', u'Sambel', u'Tempe', u'Nasi'], freq=2)\n",
      "FreqItemset(items=[u'Mujaer', u'Sambel', u'Nasi'], freq=2)\n",
      "FreqItemset(items=[u'Mujaer', u'Tempe'], freq=2)\n",
      "FreqItemset(items=[u'Mujaer', u'Tempe', u'Nasi'], freq=2)\n",
      "FreqItemset(items=[u'Mujaer', u'Nasi'], freq=2)\n"
     ]
    }
   ],
   "source": [
    "from pyspark.mllib.fpm import FPGrowth\n",
    "\n",
    "data = sc.textFile(\"/home/ponighzwa/Desktop/big data/CustomDataset.txt\")\n",
    "transactions = data.map(lambda line: line.strip().split(' '))\n",
    "model = FPGrowth.train(transactions, minSupport=0.2, numPartitions=10)\n",
    "result = model.freqItemsets().collect()\n",
    "for fi in result:\n",
    "    print(fi)"
   ]
  },
  {
   "cell_type": "code",
   "execution_count": null,
   "metadata": {
    "collapsed": true
   },
   "outputs": [],
   "source": []
  }
 ],
 "metadata": {
  "kernelspec": {
   "display_name": "Python 2",
   "language": "python",
   "name": "python2"
  },
  "language_info": {
   "codemirror_mode": {
    "name": "ipython",
    "version": 2
   },
   "file_extension": ".py",
   "mimetype": "text/x-python",
   "name": "python",
   "nbconvert_exporter": "python",
   "pygments_lexer": "ipython2",
   "version": "2.7.13"
  }
 },
 "nbformat": 4,
 "nbformat_minor": 2
}
